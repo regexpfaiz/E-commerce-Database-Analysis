{
 "cells": [
  {
   "cell_type": "code",
   "execution_count": 1,
   "id": "18de4bf6-d9ad-4b93-ac8d-db3846b7ab3a",
   "metadata": {},
   "outputs": [],
   "source": [
    "import plotly.express as px\n",
    "import plotly.graph_objects as go \n",
    "import plotly.io as pio\n",
    "import plotly .colors as colors\n",
    "pio.templates.default = \"plotly_white\""
   ]
  },
  {
   "cell_type": "code",
   "execution_count": null,
   "id": "b619aae2-2a03-43d7-bbed-84a0e2401b5f",
   "metadata": {},
   "outputs": [],
   "source": [
    "import numpy as np\n",
    "import pandas as pd # DAta cleaning\n",
    "import matplotlib.pyplot as plt \n",
    "import seaborn as sns\n"
   ]
  },
  {
   "cell_type": "code",
   "execution_count": null,
   "id": "24a4ad87-a111-4cc9-923a-0c6c13d758a6",
   "metadata": {},
   "outputs": [],
   "source": [
    "data = pd.read_csv(\"Sample - Superstore.csv\", encoding = 'latin-1')\n",
    "data.head(4)"
   ]
  },
  {
   "cell_type": "code",
   "execution_count": null,
   "id": "45914a2c-6e4b-4bda-9be0-b68cf5da0ee1",
   "metadata": {},
   "outputs": [],
   "source": []
  },
  {
   "cell_type": "code",
   "execution_count": null,
   "id": "fd29e9b8-658d-408c-b143-ecd323767e78",
   "metadata": {},
   "outputs": [],
   "source": [
    "data.describe()"
   ]
  },
  {
   "cell_type": "code",
   "execution_count": null,
   "id": "a0431d79-eb60-4fd5-a41f-268608164392",
   "metadata": {},
   "outputs": [],
   "source": []
  },
  {
   "cell_type": "code",
   "execution_count": null,
   "id": "5f944a0b-45e5-4dcf-947d-3d7e225438b6",
   "metadata": {},
   "outputs": [],
   "source": [
    "data.info()\n"
   ]
  },
  {
   "cell_type": "code",
   "execution_count": null,
   "id": "fc568f1e-4299-428d-8fe3-3de285fb870c",
   "metadata": {},
   "outputs": [],
   "source": []
  },
  {
   "cell_type": "markdown",
   "id": "f3bafdfb-642a-4d70-a9ff-0e0a4d09facc",
   "metadata": {},
   "source": [
    "# Converting date columns"
   ]
  },
  {
   "cell_type": "code",
   "execution_count": null,
   "id": "af66cbc9-8255-46bf-8f0d-99f2d5c87a1d",
   "metadata": {},
   "outputs": [],
   "source": [
    "data['Order Date'] = pd.to_datetime(data['Order Date'])"
   ]
  },
  {
   "cell_type": "code",
   "execution_count": null,
   "id": "a8fa51c8-021f-42f6-a31f-3b55d79361d4",
   "metadata": {},
   "outputs": [],
   "source": [
    "data['Ship Date'] = pd.to_datetime(data['Ship Date'])"
   ]
  },
  {
   "cell_type": "code",
   "execution_count": null,
   "id": "2c7458b6-d71b-47aa-8921-449a47851f70",
   "metadata": {},
   "outputs": [],
   "source": []
  },
  {
   "cell_type": "code",
   "execution_count": null,
   "id": "4eda3f33-1250-401d-a5b3-caf35a122c75",
   "metadata": {},
   "outputs": [],
   "source": [
    "data.head()"
   ]
  },
  {
   "cell_type": "code",
   "execution_count": null,
   "id": "0856b0b6-b892-465e-a433-7e391cbe08ad",
   "metadata": {},
   "outputs": [],
   "source": []
  },
  {
   "cell_type": "code",
   "execution_count": null,
   "id": "473e6a18-1cfe-47ad-b7a4-66365cce3eba",
   "metadata": {},
   "outputs": [],
   "source": [
    "data['Order Month'] = data['Order Date'].dt.month\n",
    "data['Order year'] = data['Order Date'].dt.year\n",
    "data['Order Day of Week '] = data['Order Date'].dt.dayofweek"
   ]
  },
  {
   "cell_type": "code",
   "execution_count": null,
   "id": "be965319-af92-408e-bb0b-7033b23bde94",
   "metadata": {},
   "outputs": [],
   "source": [
    "data.head(4)"
   ]
  },
  {
   "cell_type": "code",
   "execution_count": null,
   "id": "60feb8fe-935d-4166-9e98-7131a3a67bf3",
   "metadata": {},
   "outputs": [],
   "source": []
  },
  {
   "cell_type": "markdown",
   "id": "499d65b0-8628-4694-be55-0581af719137",
   "metadata": {},
   "source": [
    "# Monthly sales analysis"
   ]
  },
  {
   "cell_type": "code",
   "execution_count": null,
   "id": "7be8313a-88b9-4413-acc0-90ca2ea9f143",
   "metadata": {},
   "outputs": [],
   "source": []
  },
  {
   "cell_type": "code",
   "execution_count": null,
   "id": "439af59d-5985-4125-b8a1-0b3d5214c120",
   "metadata": {},
   "outputs": [],
   "source": [
    "sales_by_month = data.groupby('Order Month')['Sales'].sum().reset_index()\n"
   ]
  },
  {
   "cell_type": "code",
   "execution_count": null,
   "id": "daf1f02d-b859-4942-8739-49cfcaff9882",
   "metadata": {},
   "outputs": [],
   "source": [
    "plt.figure(figsize=(10, 5))\n",
    "plt.plot(sales_by_month['Order Month'], sales_by_month['Sales'], marker='o', linestyle='-', color='b')\n",
    "plt.title('Monthly Sales Analysis')\n",
    "plt.xlabel('Order Month')\n",
    "plt.ylabel('Sales')\n",
    "plt.grid(True)\n",
    "plt.xticks(rotation=45)  # Rotate x-axis labels for readability\n",
    "plt.show()"
   ]
  },
  {
   "cell_type": "markdown",
   "id": "938bb8bb-d1dc-4534-bb71-c0f940a38e78",
   "metadata": {},
   "source": [
    "Using plotly\n",
    "fig = px.line(sales_by_month,\n",
    "              x='Order Month',\n",
    "              y='Sales',\n",
    "              title='Monthly Sales Analysis')\n",
    "fig.show()"
   ]
  },
  {
   "cell_type": "code",
   "execution_count": null,
   "id": "575f7e9f-6ccf-4b24-a76a-d5a2c5796273",
   "metadata": {},
   "outputs": [],
   "source": []
  },
  {
   "cell_type": "markdown",
   "id": "8cbc339d-20dd-4d0d-a5dc-9d63ecb8ae7b",
   "metadata": {},
   "source": [
    "# Sales by Category"
   ]
  },
  {
   "cell_type": "code",
   "execution_count": null,
   "id": "1424e403-3664-45ef-9c2a-f2f3479f2cb2",
   "metadata": {},
   "outputs": [],
   "source": []
  },
  {
   "cell_type": "code",
   "execution_count": null,
   "id": "47674895-8fb3-46ea-94b9-06a5ce4f32a6",
   "metadata": {},
   "outputs": [],
   "source": [
    "sales_by_category = data.groupby('Category')['Sales'].sum().reset_index()"
   ]
  },
  {
   "cell_type": "code",
   "execution_count": null,
   "id": "ab9dcb54-e600-4981-acc9-fa9a33654209",
   "metadata": {},
   "outputs": [],
   "source": [
    "sales_by_category"
   ]
  },
  {
   "cell_type": "code",
   "execution_count": null,
   "id": "3cde53f2-1707-471f-8071-9560b0aa15a9",
   "metadata": {},
   "outputs": [],
   "source": [
    "import matplotlib.pyplot as plt\n",
    "\n",
    "plt.figure(figsize=(8, 8))\n",
    "plt.pie(sales_by_category['Sales'], labels=sales_by_category['Category'], autopct='%1.1f%%', \n",
    "        colors=plt.cm.Pastel1.colors, wedgeprops={'edgecolor': 'white'}, pctdistance=0.85)\n",
    "plt.gca().add_artist(plt.Circle((0, 0), 0.60, fc='white'))  # Donut effect\n",
    "plt.title(\"Sales Analysis by Category\")\n",
    "plt.show()\n"
   ]
  },
  {
   "cell_type": "markdown",
   "id": "d24948c5-e433-4a49-b8ac-dd6db4ad73dc",
   "metadata": {},
   "source": [
    "Using plotly\n",
    "  \n",
    "fig = px.pie(data_frame= sales_by_category,\n",
    "     names='Category',\n",
    "    values='Sales',\n",
    "    hole=0.5,\n",
    "    color_discrete_sequence = px.colors.qualitative.Pastel1)\n",
    "\n",
    "fig.update_traces(textposition='inside', textinfo='percent+label')\n",
    "fig.update_layout(title_text='Sales Analysis by Category', title_font=dict(size=24))\n",
    "\n",
    "fig.show()"
   ]
  },
  {
   "cell_type": "code",
   "execution_count": null,
   "id": "44b5a1bf-31f3-4376-8794-21509bd29c08",
   "metadata": {},
   "outputs": [],
   "source": [
    "data.head(2)"
   ]
  },
  {
   "cell_type": "code",
   "execution_count": null,
   "id": "db7ac160-1cef-4930-aa8f-adb4701d878f",
   "metadata": {},
   "outputs": [],
   "source": []
  },
  {
   "cell_type": "markdown",
   "id": "ee140c8e-5099-4c54-9a09-c9dd0a451c8f",
   "metadata": {},
   "source": [
    "### 3. Sale by Sub-Category"
   ]
  },
  {
   "cell_type": "code",
   "execution_count": null,
   "id": "96b2bd74-ac44-4849-80f9-14f6c22a4c0e",
   "metadata": {},
   "outputs": [],
   "source": [
    "sales_by_subcategory = data.groupby('Sub-Category')['Sales'].sum().reset_index()\n",
    "sales_by_subcategory"
   ]
  },
  {
   "cell_type": "code",
   "execution_count": null,
   "id": "76b9adfe-772c-4054-a3ad-d676caa47504",
   "metadata": {},
   "outputs": [],
   "source": [
    "plt.figure(figsize=(10, 5))\n",
    "plt.bar(sales_by_subcategory['Sub-Category'], sales_by_subcategory['Sales'], color='skyblue')\n",
    "plt.xlabel(\"Sub-Category\")\n",
    "plt.ylabel(\"Sales\")\n",
    "plt.title(\"Sales by Sub-Category\")\n",
    "plt.xticks(rotation=45)  \n",
    "plt.show()"
   ]
  },
  {
   "cell_type": "markdown",
   "id": "3fdfd59f-8528-42f9-a6e7-a8311d7f7c1f",
   "metadata": {},
   "source": [
    "<!-- (( Using plotly ))\n",
    "fig = px.bar(sales_by_subcategory,x = 'Sub-Category', y = 'Sales', title= 'Sales by Sub-Category')\n",
    "fig.show() -->"
   ]
  },
  {
   "cell_type": "code",
   "execution_count": null,
   "id": "2bdec03d-2502-4f86-bed0-5e0500f6f363",
   "metadata": {},
   "outputs": [],
   "source": []
  },
  {
   "cell_type": "markdown",
   "id": "5419a593-2678-48b4-9186-761e94187293",
   "metadata": {},
   "source": [
    "# 4. Monthly Profit analysis "
   ]
  },
  {
   "cell_type": "code",
   "execution_count": null,
   "id": "4d84064c-1f6a-4ef8-aca7-e4519ac36feb",
   "metadata": {},
   "outputs": [],
   "source": []
  },
  {
   "cell_type": "code",
   "execution_count": null,
   "id": "150561a6-3f83-42d0-87bb-7c70db318930",
   "metadata": {},
   "outputs": [],
   "source": [
    "data.head()"
   ]
  },
  {
   "cell_type": "code",
   "execution_count": null,
   "id": "2c219ecf-01a6-48b6-8520-6bf6d7c73bdf",
   "metadata": {},
   "outputs": [],
   "source": [
    "profit_by_month = data.groupby('Order Month')['Profit'].sum().reset_index()\n",
    "profit_by_month"
   ]
  },
  {
   "cell_type": "code",
   "execution_count": null,
   "id": "05385f40-f879-4cbe-accd-d8d505be5550",
   "metadata": {},
   "outputs": [],
   "source": [
    "plt.figure(figsize=(10, 5))\n",
    "plt.plot(profit_by_month['Order Month'], profit_by_month['Profit'], marker='o', linestyle='-', color='b')\n",
    "plt.xlabel(\"Order Month\")\n",
    "plt.ylabel(\"Profit\")\n",
    "plt.title(\"Monthly Profit Analysis\")\n",
    "plt.xticks(rotation=45)\n",
    "plt.grid(True)\n",
    "plt.show()"
   ]
  },
  {
   "cell_type": "markdown",
   "id": "8ff74b2b-3443-43c0-a2ad-b8e073c25d54",
   "metadata": {},
   "source": [
    "<!-- (( Using plotly ))\n",
    "fig = px.line(profit_by_month, x='Order Month', y='Profit', title= \"Monthly Profit Analysis\")\n",
    "fig -->"
   ]
  },
  {
   "cell_type": "code",
   "execution_count": null,
   "id": "1e15d3a3-4041-4825-ac0a-d59565cdd9d4",
   "metadata": {},
   "outputs": [],
   "source": [
    "plt.figure(figsize=(10,5))\n",
    "plt.bar(profit_by_month['Order Month'],profit_by_month['Profit'],color='skyblue')\n",
    "plt.xlabel('Order Month')\n",
    "plt.ylabel('Profit')\n",
    "plt.show()"
   ]
  },
  {
   "cell_type": "code",
   "execution_count": null,
   "id": "c38fb58f-5705-4c11-9efe-9996f92b5953",
   "metadata": {},
   "outputs": [],
   "source": [
    "# (( Using Plotly ))\n",
    "# fig = px.bar(profit_by_month, x='Order Month', y='Profit', title= \"Monthly Profit Analysis\")\n",
    "# fig"
   ]
  },
  {
   "cell_type": "code",
   "execution_count": null,
   "id": "00a11d73-218c-4bb8-bc99-b7a6a9a5933d",
   "metadata": {},
   "outputs": [],
   "source": []
  },
  {
   "cell_type": "markdown",
   "id": "2006ebda-6bf3-4f69-9d67-7be384e9b94c",
   "metadata": {},
   "source": [
    "# Profit by Category"
   ]
  },
  {
   "cell_type": "code",
   "execution_count": null,
   "id": "5d2badca-0fc5-4c79-aa22-3ca4fedaff3c",
   "metadata": {},
   "outputs": [],
   "source": []
  },
  {
   "cell_type": "code",
   "execution_count": null,
   "id": "ce71d4fd-d07e-4995-a942-eb29aad594d9",
   "metadata": {},
   "outputs": [],
   "source": [
    "profit_by_category = data.groupby('Category')['Profit'].sum().reset_index()\n",
    "profit_by_category"
   ]
  },
  {
   "cell_type": "code",
   "execution_count": null,
   "id": "f2a7bf88-5a16-4a5a-bc34-4712f3c7248a",
   "metadata": {},
   "outputs": [],
   "source": [
    "plt.figure(figsize=(10,5))\n",
    "plt.pie(profit_by_category['Profit'], labels=profit_by_category['Category'],autopct='%1.1f%%')\n",
    "plt.title(\"Profit Analysis by Category\")\n",
    "plt.show()\n"
   ]
  },
  {
   "cell_type": "code",
   "execution_count": null,
   "id": "bf107b3d-1801-47db-857e-e3d95c04c976",
   "metadata": {},
   "outputs": [],
   "source": [
    "# # fig = px.pie(data_frame=profit_by_category,names='Category',values=\"Profit\",hole=0.5)\n",
    "# fig.update_layout(title_text='Profit Analysis by Category')\n",
    "\n",
    "# fig.show()"
   ]
  },
  {
   "cell_type": "code",
   "execution_count": null,
   "id": "43327a39-df91-4cbd-a3ff-d03286f53544",
   "metadata": {},
   "outputs": [],
   "source": []
  },
  {
   "cell_type": "markdown",
   "id": "839bd170-25b3-448c-a142-adb11074a85b",
   "metadata": {},
   "source": [
    "# 5. Profit by sub-category"
   ]
  },
  {
   "cell_type": "code",
   "execution_count": null,
   "id": "70ee503b-b0ec-4e46-9d8b-cc68d762d159",
   "metadata": {},
   "outputs": [],
   "source": [
    "plt.figure(figsize=(10,5))\n",
    "plt.bar(profit_by_subcategory['Sub-Category'], profit_by_subcategory['Profit'])\n",
    "plt.xlabel(\"Sub-Category\")\n",
    "plt.ylabel('Profit')\n",
    "plt.xticks(rotation=70)\n",
    "plt.show()"
   ]
  },
  {
   "cell_type": "code",
   "execution_count": null,
   "id": "b5be90db-d535-4ab4-a59b-4c57d30165f9",
   "metadata": {},
   "outputs": [],
   "source": [
    "# Using Plotly\n",
    "# profit_by_subcategory = data.groupby('Sub-Category')['Profit'].sum().reset_index()\n",
    "# profit_by_subcategory\n",
    "\n",
    "# fig = px.bar(profit_by_subcategory, x='Sub-Category' , y = 'Profit', title= 'Porfit by sub-category')\n",
    "\n",
    "# fig.show()"
   ]
  },
  {
   "cell_type": "code",
   "execution_count": null,
   "id": "c8267482-5886-4eae-926e-a312c7767139",
   "metadata": {},
   "outputs": [],
   "source": []
  },
  {
   "cell_type": "markdown",
   "id": "8fc39fb6-bd08-4200-abc0-c5b3be8b93df",
   "metadata": {},
   "source": [
    "# Sales and Profit - Customer Segment"
   ]
  },
  {
   "cell_type": "code",
   "execution_count": null,
   "id": "39ac2bda-2555-43d4-8d58-0e08e01c0801",
   "metadata": {},
   "outputs": [],
   "source": []
  },
  {
   "cell_type": "code",
   "execution_count": null,
   "id": "c166ed2d-86ae-446c-bf42-751d3b9291cf",
   "metadata": {},
   "outputs": [],
   "source": [
    "sales_profit_by_segment = data.groupby('Segment').agg({'Sales':'sum','Profit':'sum'}).reset_index()   \n",
    "\n",
    "color_palette = colors.qualitative.Pastel\n",
    "fig = go.Figure()\n",
    "\n",
    "fig.add_trace(go.Bar(x= sales_profit_by_segment['Segment'],\n",
    "                    y = sales_profit_by_segment['Sales'],\n",
    "                    name= 'Sales',\n",
    "                    marker_color = color_palette[0]))\n",
    "fig.add_trace(go.Bar(x=sales_profit_by_segment['Segment'],\n",
    "                     y=sales_profit_by_segment['Profit'],\n",
    "                     name='Profit',\n",
    "                     marker_color = color_palette[1]))\n",
    "\n",
    "fig.update_layout(title='Sales and Profit Analysis by Consumer Segment',\n",
    "                  xaxis_title = 'Consumer Segment', yaxis_title='Amount')\n",
    "\n",
    "\n",
    "fig.show()"
   ]
  },
  {
   "cell_type": "code",
   "execution_count": null,
   "id": "d04806aa-348d-4d0d-9864-8763fe87bfe0",
   "metadata": {},
   "outputs": [],
   "source": [
    "sales_profit_by_segment"
   ]
  },
  {
   "cell_type": "code",
   "execution_count": null,
   "id": "92dee859-3141-4dc0-88f5-e543c6bef840",
   "metadata": {},
   "outputs": [],
   "source": []
  },
  {
   "cell_type": "markdown",
   "id": "36440ae8-3b65-4c39-b936-d5e2f7953059",
   "metadata": {},
   "source": [
    "# Sales to Profit Ratio"
   ]
  },
  {
   "cell_type": "code",
   "execution_count": null,
   "id": "6c7f11d4-8fe5-4c77-ba36-5d8428885641",
   "metadata": {},
   "outputs": [],
   "source": [
    "sales_profit_by_segment = data.groupby('Segment').agg({'Sales':'sum','Profit':'sum'}).reset_index()\n",
    "sales_profit_by_segment['Sales_to_profit_ratio'] = sales_profit_by_segment['Sales']/sales_profit_by_segment['Profit']\n",
    "sales_profit_by_segment"
   ]
  },
  {
   "cell_type": "code",
   "execution_count": null,
   "id": "ddf77c80-170c-4e29-a5c1-2bf8780290c7",
   "metadata": {},
   "outputs": [],
   "source": []
  },
  {
   "cell_type": "code",
   "execution_count": null,
   "id": "9c8b330e-714b-4889-b20b-348ae79a750f",
   "metadata": {},
   "outputs": [],
   "source": []
  },
  {
   "cell_type": "code",
   "execution_count": null,
   "id": "619e14cc-c8b6-4211-a12f-c75a2bcadbe8",
   "metadata": {},
   "outputs": [],
   "source": []
  },
  {
   "cell_type": "code",
   "execution_count": null,
   "id": "4e8d0df9-bacb-46ed-bf39-97c7b025b7f1",
   "metadata": {},
   "outputs": [],
   "source": []
  }
 ],
 "metadata": {
  "kernelspec": {
   "display_name": "Python 3 (ipykernel)",
   "language": "python",
   "name": "python3"
  },
  "language_info": {
   "codemirror_mode": {
    "name": "ipython",
    "version": 3
   },
   "file_extension": ".py",
   "mimetype": "text/x-python",
   "name": "python",
   "nbconvert_exporter": "python",
   "pygments_lexer": "ipython3",
   "version": "3.12.7"
  }
 },
 "nbformat": 4,
 "nbformat_minor": 5
}
